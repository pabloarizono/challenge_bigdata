{
 "cells": [
  {
   "cell_type": "markdown",
   "metadata": {},
   "source": [
    "*1.0    Chequear requisitos tecnicos :*"
   ]
  },
  {
   "cell_type": "code",
   "execution_count": 1,
   "metadata": {
    "vscode": {
     "languageId": "plaintext"
    }
   },
   "outputs": [
    {
     "name": "stdout",
     "output_type": "stream",
     "text": [
      "Python 3.6.15\n",
      "PySpark 2.3.0\n",
      "Ruta del interprete : /usr/bin/python3\n"
     ]
    }
   ],
   "source": [
    "# Versión de Python\n",
    "!python3 --version\n",
    "\n",
    "# Versión de PySpark\n",
    "import pyspark\n",
    "print(\"PySpark\", pyspark.__version__)\n",
    "\n",
    "import sys\n",
    "print(\"Ruta del interprete :\",sys.executable) \n"
   ]
  },
  {
   "cell_type": "code",
   "execution_count": 5,
   "metadata": {
    "vscode": {
     "languageId": "plaintext"
    }
   },
   "outputs": [],
   "source": [
    "from pyspark.sql.functions import when,sum,md5,hour\n",
    "from pyspark.sql import SparkSession\n",
    "import matplotlib.pyplot as plt\n",
    "\n"
   ]
  },
  {
   "cell_type": "code",
   "execution_count": 6,
   "metadata": {
    "vscode": {
     "languageId": "plaintext"
    }
   },
   "outputs": [],
   "source": [
    "# Crear una sesión de Spark y levantar datasets csv\n",
    "spark = SparkSession.builder.appName(\"ReadFile\").getOrCreate()\n",
    "\n",
    "df_events = spark.read.csv(\n",
    "    \"/home/jovyan/work/test_grandata_data_engineer/events.csv.gz\",\n",
    "    header=True,\n",
    "    inferSchema=True,\n",
    ")\n",
    "df_freesms = spark.read.csv(\n",
    "    \"/home/jovyan/work/test_grandata_data_engineer/free_sms_destinations.csv.gz\",\n",
    "    header=True,\n",
    "    inferSchema=True,\n",
    ")"
   ]
  },
  {
   "cell_type": "markdown",
   "metadata": {},
   "source": [
    "###  1.1  Calcular el monto total que facturara el proveedor del servicio por envios de sms"
   ]
  },
  {
   "cell_type": "code",
   "execution_count": 7,
   "metadata": {
    "vscode": {
     "languageId": "plaintext"
    }
   },
   "outputs": [
    {
     "name": "stdout",
     "output_type": "stream",
     "text": [
      "El monto total que facturara el proveedor de servicios por envios de sms es $ 140757.0\n"
     ]
    }
   ],
   "source": [
    "\n",
    "# Filtrar los registros que no están en free_sms_destinations\n",
    "df_payed = df_events.join(df_freesms, df_events.id_destination == df_freesms.id, \"leftanti\")\n",
    "df_payed = df_payed.filter((df_payed.id_source.isNotNull()) & (df_payed.id_destination.isNotNull()))\n",
    "df_payed = df_payed.filter(df_payed.sms != 0)\n",
    "\n",
    "# Calculo costo x región\n",
    "df_payed = df_payed.withColumn(\n",
    "    \"toPay\",\n",
    "    when((df_payed.region >= 1) & (df_payed.region <= 5), 1.5) #$1.5, si el evento se registra en las regiones 1 a 5\n",
    "    .when((df_payed.region >= 6) & (df_payed.region <= 9), 2.0)#$2.0, si el evento se registra en las regiones 6 a 9\n",
    "    .otherwise(None),\n",
    ")\n",
    "\n",
    "\n",
    "# Suma del total a facturar\n",
    "sum_total = df_payed.agg(sum(\"toPay\")).collect()[0][0]\n",
    "print(\"El monto total que facturara el proveedor de servicios por envios de sms es $\", sum_total)\n"
   ]
  },
  {
   "cell_type": "markdown",
   "metadata": {},
   "source": [
    "### 1.2 Generar un dataset que contenga los ID de los 100 usuarios con mayor facturacion por envio de sms y el monto total a facturar a cada uno. Ademas del ID, incluir el ID hasheado mediante el algoritmo MD5. Escribir el dataset en formato parquet con compresion gzip.\n"
   ]
  },
  {
   "cell_type": "code",
   "execution_count": 8,
   "metadata": {
    "vscode": {
     "languageId": "plaintext"
    }
   },
   "outputs": [
    {
     "name": "stdout",
     "output_type": "stream",
     "text": [
      "+---------+-------------+--------------------+\n",
      "|id_source|total_payment|         id_hasheado|\n",
      "+---------+-------------+--------------------+\n",
      "|      4D3|      18201.5|911914c7729eedbdf...|\n",
      "|      76D|      13128.0|bd180b7811395cbce...|\n",
      "|      07E|       3620.0|14a0660ae2f5d1868...|\n",
      "|      541|       1361.0|16c222aa19898e505...|\n",
      "|      B86|        950.5|bc97b32ee2abb9c18...|\n",
      "|      3AE|        672.0|6a57072949dbc409c...|\n",
      "|      1BD|        657.5|f5a45e33602ea62f9...|\n",
      "|      3E0|        628.5|e9d076deb3451cc49...|\n",
      "|      E6F|        318.0|159e1f3d6ff0e7c3c...|\n",
      "|      D0B|        291.5|e87c495061191f4df...|\n",
      "|      BD4|        274.5|aa35b36e4d1395542...|\n",
      "|      8F1|        269.5|496ce5f942d15eefb...|\n",
      "|      556|        212.5|11b921ef080f77360...|\n",
      "|      E21|        206.0|6f916a6c36cd500c3...|\n",
      "|      24F|        168.5|9f4c6198e4de6db74...|\n",
      "|      498|        159.5|05f971b5ec196b8c6...|\n",
      "|      ED9|        134.5|7d7d2b7b7d0b01a87...|\n",
      "|      2B1|        123.5|2cf07ff95f0cec031...|\n",
      "|      79F|        120.5|64b6216804418b182...|\n",
      "|      A7C|        112.5|d6248b99a00e0bdbd...|\n",
      "+---------+-------------+--------------------+\n",
      "only showing top 20 rows\n",
      "\n",
      "El dataset en formato parquet con compresion gzip se ha guardo correctamente en la ruta : </home/jovyan/work/output/topbilling>\n"
     ]
    }
   ],
   "source": [
    "\n",
    "# Top 100 clientes con mayor facturación por envio de sms :\n",
    "df_topbilling = ( df_payed.groupBy(\"id_source\").agg(sum(\"toPay\").alias(\"total_payment\"))\n",
    "    .orderBy(\"total_payment\", ascending=False)\n",
    "    .limit(100)\n",
    ")\n",
    "\n",
    "# Hasheo de ids con md5\n",
    "df_with_hash = df_topbilling.withColumn(\"id_hasheado\", md5(df_topbilling.id_source))\n",
    "df_with_hash.show()\n",
    "\n",
    "# Almacenar el dataset como Parquet comprimido\n",
    "output_path = \"/home/jovyan/work/output/topbilling\"\n",
    "df_with_hash.write.format(\"parquet\").option(\"compression\", \"gzip\").mode(\"overwrite\").save(output_path)\n",
    "\n",
    "print(\"El dataset en formato parquet con compresion gzip se ha guardo correctamente en la ruta : </home/jovyan/work/output/topbilling>\")\n",
    "\n",
    "\n"
   ]
  },
  {
   "cell_type": "markdown",
   "metadata": {},
   "source": [
    "### 1.3 Graficar un histograma de cantidad de llamadas que se realizan por hora del dia."
   ]
  },
  {
   "cell_type": "code",
   "execution_count": 13,
   "metadata": {
    "vscode": {
     "languageId": "plaintext"
    }
   },
   "outputs": [
    {
     "name": "stdout",
     "output_type": "stream",
     "text": [
      "El histograma ha sido guardado en la ruta: </home/jovyan/work/output/histograma_llamadas.png >\n"
     ]
    },
    {
     "data": {
      "image/png": "[encoded data removed]",
      "text/plain": [
       "<Figure size 1080x504 with 1 Axes>"
      ]
     },
     "metadata": {},
     "output_type": "display_data"
    }
   ],
   "source": [
    "# Calcular el histograma de llamadas por hora\n",
    "df_events_histo = df_events.filter(\n",
    "    (df_events.id_source.isNotNull()) & (df_events.id_destination.isNotNull())\n",
    ")\n",
    "\n",
    "calls_x_hour = (\n",
    "    df_events_histo.groupBy(\"hour\")\n",
    "    .agg(sum(\"calls\").alias(\"cantllamadasxhoraxdia\"))\n",
    "    .orderBy(\"hour\")\n",
    ")\n",
    "\n",
    "# levanto los datos a graficar\n",
    "hours = calls_x_hour.select(\"hour\").rdd.flatMap(lambda x: x).collect()\n",
    "counts = calls_x_hour.select(\"cantllamadasxhoraxdia\").rdd.flatMap(lambda x: x).collect()\n",
    "\n",
    "\n",
    "# Concateno con hs\n",
    "def format_hs(hour):\n",
    "    hour_int = int(hour)\n",
    "    return f\"{hour_int} hs\"\n",
    "\n",
    "# Me asuro que haya datos antes de graficar\n",
    "if hours and counts:\n",
    "    plt.figure(figsize=(15, 7))\n",
    "    plt.bar(hours, counts, align=\"center\", alpha=0.5,color='green') #transparencia y color\n",
    "    plt.xlabel(\"Horario del dia\",fontsize=14)\n",
    "    plt.ylabel(\"Cantidad de llamadas\",fontsize=14)\n",
    "    plt.title(\"Cantidad de llamadas por horas del dia\",fontsize=17)\n",
    "    \n",
    "    # Formatear el eje X con las horas \n",
    "    formatted_hours = [format_hs(hour) for hour in hours]\n",
    "    plt.xticks(hours, formatted_hours, rotation=45)\n",
    "    \n",
    "    \n",
    "    plt.tight_layout()  # \n",
    "    plt.gcf().set_facecolor('white')\n",
    "    \n",
    "    # Guardar la imagen del histograma como un archivo\n",
    "    output_image_path = \"/home/jovyan/work/output/histograma_llamadas.png\"\n",
    "    plt.savefig(output_image_path, bbox_inches='tight', transparent=False) \n",
    "    print(\"El histograma ha sido guardado en la ruta: </home/jovyan/work/output/histograma_llamadas.png >\" )\n",
    "    \n",
    "    plt.show()\n",
    "\n",
    "else:\n",
    "\n",
    "    print(\"No se encuentran los datos para graficar.\")\n"
   ]
  },
  {
   "cell_type": "code",
   "execution_count": 7,
   "metadata": {
    "vscode": {
     "languageId": "plaintext"
    }
   },
   "outputs": [],
   "source": []
  },
  {
   "cell_type": "code",
   "execution_count": null,
   "metadata": {},
   "outputs": [],
   "source": [
    "#Termina la Sesion\n",
    "spark.stop()"
   ]
  }
 ],
 "metadata": {
  "kernelspec": {
   "display_name": "Python 3",
   "language": "python",
   "name": "python3"
  },
  "language_info": {
   "codemirror_mode": {
    "name": "ipython",
    "version": 3
   },
   "file_extension": ".py",
   "mimetype": "text/x-python",
   "name": "python",
   "nbconvert_exporter": "python",
   "pygments_lexer": "ipython3",
   "version": "3.6.15"
  }
 },
 "nbformat": 4,
 "nbformat_minor": 2
}
