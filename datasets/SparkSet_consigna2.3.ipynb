{
 "cells": [
  {
   "cell_type": "code",
   "execution_count": 1,
   "id": "11b04b44",
   "metadata": {},
   "outputs": [],
   "source": [
    "\n"
   ]
  },
  {
   "cell_type": "markdown",
   "id": "85770fd2",
   "metadata": {},
   "source": [
    "*Configurar session con los requisitos de la consigna 2.3*"
   ]
  },
  {
   "cell_type": "code",
   "execution_count": null,
   "id": "8bf6c5ed",
   "metadata": {},
   "outputs": [],
   "source": [
    "from pyspark.sql import SparkSession"
   ]
  },
  {
   "cell_type": "code",
   "execution_count": 26,
   "id": "fd8a7e47",
   "metadata": {},
   "outputs": [],
   "source": [
    "#se solicita :\n",
    "# un ejecutor por nodo (se utiliza la mitad)\n",
    "#25gb por ejecutor\n",
    "#6nucleos por ejecutor\n",
    "\n",
    "spark = SparkSession.builder \\\n",
    "    .appName(\"Proceso Spark - consigna 2.3\") \\\n",
    "    .config(\"spark.executor.instances\", 3) \\\n",
    "    .config(\"spark.executor.memory\", \"25g\") \\\n",
    "    .config(\"spark.executor.cores\", 6) \\\n",
    "    .getOrCreate()\n",
    "\n",
    "\n"
   ]
  },
  {
   "cell_type": "code",
   "execution_count": 16,
   "id": "515e92ae",
   "metadata": {},
   "outputs": [
    {
     "name": "stdout",
     "output_type": "stream",
     "text": [
      "Versión de Spark: 2.3.0\n",
      "('spark.executor.instances', '3')\n",
      "('spark.driver.port', '46805')\n",
      "('spark.driver.memory', '4g')\n",
      "('spark.executor.memoryOverhead', '2.5g')\n",
      "('spark.executor.id', 'driver')\n",
      "('spark.executor.memory', '25g')\n",
      "('spark.driver.host', '69acb7162f92')\n",
      "('spark.executor.cores', '6')\n",
      "('spark.rdd.compress', 'True')\n",
      "('spark.serializer.objectStreamReset', '100')\n",
      "('spark.master', 'local[*]')\n",
      "('spark.submit.deployMode', 'client')\n",
      "('spark.ui.showConsoleProgress', 'true')\n",
      "('spark.app.name', 'Proceso Spark - Uso mitad del clúster')\n",
      "('spark.driver.cores', '1')\n",
      "('spark.app.id', 'local-1737499228486')\n"
     ]
    }
   ],
   "source": [
    "# versión de Spark\n",
    "print(\"Versión de Spark:\", spark.version)\n",
    "\n",
    "# configuración de SparkContext\n",
    "#print(\"Configuración de SparkContext:\")\n",
    "#print(spark.sparkContext.getConf().getAll())\n",
    "\n",
    "\n",
    "# Mostrar configuraciones de Spark\n",
    "for item in spark.sparkContext.getConf().getAll():\n",
    "    print(item)"
   ]
  },
  {
   "cell_type": "code",
   "execution_count": 19,
   "id": "f49fe20a",
   "metadata": {},
   "outputs": [],
   "source": []
  }
 ],
 "metadata": {
  "kernelspec": {
   "display_name": "Python 3",
   "language": "python",
   "name": "python3"
  },
  "language_info": {
   "codemirror_mode": {
    "name": "ipython",
    "version": 3
   },
   "file_extension": ".py",
   "mimetype": "text/x-python",
   "name": "python",
   "nbconvert_exporter": "python",
   "pygments_lexer": "ipython3",
   "version": "3.6.15"
  }
 },
 "nbformat": 4,
 "nbformat_minor": 5
}
